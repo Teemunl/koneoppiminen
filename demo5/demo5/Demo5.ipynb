{
 "cells": [
  {
   "cell_type": "markdown",
   "metadata": {},
   "source": [
    "# DEMO 5 21.-23.4.2021\n",
    "## Koneoppimisen perusteet TIEA2300\n",
    "### Päätöspuut, satunnaismetsät ja klusterointi\n",
    "\n",
    "#### * Tallenna tiedosto python muodossa (ei notebook) ja nimeä se \"sukunimi_etunimi_demo5.py\"\n",
    "* Jos työskentelet Jupyter Notebookilla niin voit muuntaa notebookin xxxx.py tiedostoksi menusta \"File\"-\"Download as\"->Python (.py)\n",
    "* Palauta tiedosto Moodlen palautuskansioon (tulossa pian)viimeistään **5.5.2021**\n",
    "* Tehtävä on palautettava ja se tarkistetaan. Suoritus hyväksytään tai palautetaan muokattavaksi. Yhtä täydellistä ratkaisua ei kuitenkaan ole vaan hyvä yritys kannattaa myös palauttaa. \n",
    "* Demoissa saa kysyä neuvoja."
   ]
  },
  {
   "cell_type": "markdown",
   "metadata": {},
   "source": [
    "### Tehtävä 1: Satunnaismetsäluokittelu ja muuttujien tärkeyden analysointi\n",
    "\n",
    "Luennolla näytettiin esimerkki satunnaismetsäluokittelijan hyödyntämisestä scikit-learnin rintasyöpäaineistolle. Koodin lopussa tarkasteltiin aineiston muuttujia ja lajiteltiin ne tärkeysjärjestykseen käyttäen satunnaismetsäluokittelijan omaa muuttujien tärkeyden estimaattia (Mean Decrease in Impurity eli MDI). \n",
    " \n",
    "Tehtävä: \n",
    "1.\tKäytä Sloan Digital Sky Survey DR16 -dataa (\"Skyserver_12_30_2019 4_49_58 PM.csv\") ja tutustu sen kuvaukseen: https://www.kaggle.com/muhakabartay/sloan-digital-sky-survey-dr16. Tehtävänäsi on luokitella havainnot kolmeen ryhmään: galaksit, tähdet ja kvasaarit.\n",
    "2.\tOpeta ja testaa satunnaismetsäluokitin (Random forest) siten, että testiaineistona on 33 % havainnoista ja esittele tulokset (ks. luennon 8 esimerkki). Tutki myös tärkeimpiä muuttujia luokittelijan sisäänrakennetun feature_importances_ -muuttujan kautta, kuten luennon esimerkissä.\n",
    "3.\tTutki sivua https://scikit-learn.org/stable/auto_examples/inspection/plot_permutation_importance.html ja toteuta muuttujien tärkeyden analysointi permutation_importance-funktion (https://scikit-learn.org/stable/modules/generated/sklearn.inspection.permutation_importance.html) avulla. Vertaile tärkeimmiksi nostettuja muuttujia näiden kahden menetelmän osalta. Onko niissä eroja?"
   ]
  },
  {
   "cell_type": "markdown",
   "metadata": {},
   "source": [
    "#### Tehtävä 2: Klusterien lukumäärän estimointi datasta\n",
    "    \n",
    "Tutustu kmeans-algoritmiin ja silhouette-indeksin laskentaa.\n",
    "- https://scikit-learn.org/stable/modules/generated/sklearn.cluster.KMeans.html\n",
    "- https://scikit-learn.org/stable/modules/generated/sklearn.metrics.silhouette_score.html\n",
    "\n",
    "<p>\n",
    "    \n",
    "Tehtäväsi on lukea datataulukko 'demo5.csv' tiedostosta ja estimoida K-means-klusterimallin paras klusterien lukumäärä käyttäen Silhouette-indeksia. Oikea lukumäärä on välillä K = 2,...,20.\n",
    "\n",
    "<p>\n",
    "\n",
    "K-means-klusteroinnissa muuttujat kannattaa skaalata, koska muuten ison vaihteluvälin muuttujat painottuvat etäisyyksien laskennassa.\n",
    "\n",
    "<p>\n",
    "\n",
    "* Tulosta data koko (rivit ja sarakkeet).<br>\n",
    "\n",
    "* Tulosta scatterplot-visualisointi datasta ja arvioi sen perusteella visuaalisesti mikä voisi olla klustereiden oikea (tai paras) lukumäärä, jos klusteriden ajatelleen noudattavan k-means-oletuksia (pallomaisia symmetrisiä samankokoisia ryppäitä).\n",
    "    \n",
    "* Sovita jälkeen tarvittavat K-means-mallit (K=2,...,20) ja tulosta jokaisen klusterilukumäärän antama silhouette arvo. \n",
    "\n",
    "* Muista, että K-means-klusterointi riippuu alustuksesta, joten käytä sopivaa valintaa Kmeans funktion 'init' syöteparametrille\n",
    "\n",
    "* Tulosta lopuksi lause, josta näkyy paras klusterien lukumäärä ja lisää kommentteihin mitä arvelit visuaalisen tarkastelun perusteella"
   ]
  },
  {
   "cell_type": "code",
   "execution_count": 2,
   "metadata": {},
   "outputs": [],
   "source": [
    "import numpy as np\n",
    "import matplotlib.pyplot as plt\n",
    "import pandas as pd\n",
    "from sklearn.cluster import KMeans\n",
    "from sklearn.datasets import make_blobs\n",
    "from sklearn import metrics\n",
    "from sklearn.pipeline import make_pipeline\n",
    "from sklearn.preprocessing import StandardScaler\n",
    "\n",
    "# Tehtävässä tarvittavan datan tuonti\n",
    "X = pd.read_csv('demo5.csv').to_numpy()\n"
   ]
  }
 ],
 "metadata": {
  "kernelspec": {
   "display_name": "Python 3",
   "language": "python",
   "name": "python3"
  },
  "language_info": {
   "codemirror_mode": {
    "name": "ipython",
    "version": 3
   },
   "file_extension": ".py",
   "mimetype": "text/x-python",
   "name": "python",
   "nbconvert_exporter": "python",
   "pygments_lexer": "ipython3",
   "version": "3.8.5"
  }
 },
 "nbformat": 4,
 "nbformat_minor": 2
}
